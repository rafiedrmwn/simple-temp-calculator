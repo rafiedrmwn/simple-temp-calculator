{
  "nbformat": 4,
  "nbformat_minor": 0,
  "metadata": {
    "colab": {
      "provenance": []
    },
    "kernelspec": {
      "name": "python3",
      "display_name": "Python 3"
    },
    "language_info": {
      "name": "python"
    }
  },
  "cells": [
    {
      "cell_type": "code",
      "execution_count": null,
      "metadata": {
        "colab": {
          "base_uri": "https://localhost:8080/"
        },
        "id": "pFsrtSEbBfa2",
        "outputId": "8f8bf755-9043-488b-d2c6-312e483072e0"
      },
      "outputs": [
        {
          "output_type": "stream",
          "name": "stdout",
          "text": [
            "What is the temperature?: 69\n",
            "What temperature it is from?: (C/K/F)C\n",
            "Which temperature you want to convert to?: (C/K/F)F\n",
            "69.0C is equal to 156.2F\n"
          ]
        }
      ],
      "source": [
        "# Write your code here\n",
        "temp = float(input('What is the temperature?: '))\n",
        "from_unit = input('What temperature it is from?: (C/K/F)').upper() # isi dg yg ada di valid_unit aja\n",
        "to_unit = input('Which temperature you want to convert to?: (C/K/F)').upper() # isi dg yg ada di valid_unit aja\n",
        "\n",
        "valid_unit = ['C','K','F']\n",
        "\n",
        "# jawaban\n",
        "if from_unit not in valid_unit or to_unit not in valid_unit:\n",
        "   hasil = print(\"Please input correctly\")\n",
        "else:\n",
        "  if(from_unit == 'C' and to_unit == 'F'):\n",
        "    hasil = (temp*9/5)+32\n",
        "  if(from_unit == 'F' and to_unit == 'C'):\n",
        "    hasil = 5/9*(temp-32)\n",
        "  if(from_unit == 'C' and to_unit == 'K'):\n",
        "    hasil = temp + 273.15\n",
        "  if(from_unit == 'K' and to_unit == 'C'):\n",
        "    hasil = temp - 273.15\n",
        "  if(from_unit == 'K' and to_unit == 'F'):\n",
        "    hasil = (temp - 273.15)*1.8 + 32\n",
        "  if(from_unit == 'F' and to_unit == 'K'):\n",
        "    hasil = (temp - 32)*5/9 + 273.15\n",
        "  if((from_unit == 'F' and to_unit == 'F') or (from_unit == 'K' and to_unit == 'K') or (from_unit == 'C' and to_unit == 'C')):\n",
        "    hasil = temp\n",
        "\n",
        "  hasil = round(hasil, 2)\n",
        "  print(f'{temp}{from_unit} is equal to {hasil}{to_unit}')"
      ]
    }
  ]
}